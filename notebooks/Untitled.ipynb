{
 "cells": [
  {
   "cell_type": "code",
   "execution_count": 1,
   "id": "27fc27bc",
   "metadata": {},
   "outputs": [
    {
     "name": "stderr",
     "output_type": "stream",
     "text": [
      "WARNING:param.GridBox00109: Setting non-parameter attribute row_heights=['50px', '200px'] using a mechanism intended only for parameters\n",
      "WARNING:param.GridBox00109: Setting non-parameter attribute col_widths=['200px', '1fr'] using a mechanism intended only for parameters\n"
     ]
    },
    {
     "name": "stdout",
     "output_type": "stream",
     "text": [
      "Launching server at http://localhost:56420\n"
     ]
    },
    {
     "data": {
      "text/plain": [
       "<panel.io.server.Server at 0x127d90a30>"
      ]
     },
     "execution_count": 1,
     "metadata": {},
     "output_type": "execute_result"
    }
   ],
   "source": [
    "import panel as pn\n",
    "\n",
    "# Create four components to be placed in the grid\n",
    "component1 = pn.pane.Markdown(\"Component 1\")\n",
    "component2 = pn.pane.Markdown(\"Component 2\")\n",
    "component3 = pn.pane.Markdown(\"Component 3\")\n",
    "component4 = pn.pane.Markdown(\"Component 4\")\n",
    "\n",
    "# Specify row heights and column widths with padding\n",
    "row_heights = [\"50px\", \"200px\"]\n",
    "col_widths = [\"200px\", \"1fr\"]  # \"1fr\" indicates remaining available space\n",
    "\n",
    "# Create a Panel layout with a 2x2 grid\n",
    "layout = pn.GridBox(\n",
    "    [component1, component2, component3, component4],\n",
    "    ncols=2,  # Number of columns\n",
    "    nrows=2,  # Number of rows\n",
    "    row_heights=row_heights,\n",
    "    col_widths=col_widths,\n",
    "    sizing_mode=\"stretch_both\"  # Distribute across the entire page\n",
    ")\n",
    "\n",
    "# Show the layout in the browser\n",
    "layout.show()\n"
   ]
  },
  {
   "cell_type": "code",
   "execution_count": 4,
   "id": "d999617a",
   "metadata": {},
   "outputs": [
    {
     "name": "stderr",
     "output_type": "stream",
     "text": [
      "WARNING:param.GridBox00142: Setting non-parameter attribute row_heights=['50%', '50%'] using a mechanism intended only for parameters\n",
      "WARNING:param.GridBox00142: Setting non-parameter attribute col_widths=['50%', '50%'] using a mechanism intended only for parameters\n"
     ]
    },
    {
     "name": "stdout",
     "output_type": "stream",
     "text": [
      "Launching server at http://localhost:56426\n"
     ]
    },
    {
     "data": {
      "text/plain": [
       "<panel.io.server.Server at 0x13690a500>"
      ]
     },
     "execution_count": 4,
     "metadata": {},
     "output_type": "execute_result"
    }
   ],
   "source": [
    "import panel as pn\n",
    "import plotly.graph_objects as go\n",
    "\n",
    "# Create four Plotly charts\n",
    "chart1 = go.Figure(data=go.Scatter(x=[1, 2, 3], y=[4, 5, 6]))\n",
    "chart2 = go.Figure(data=go.Bar(x=[1, 2, 3], y=[4, 5, 6]))\n",
    "chart3 = go.Figure(data=go.Scatter(x=[1, 2, 3], y=[6, 5, 4]))\n",
    "chart4 = go.Figure(data=go.Bar(x=[1, 2, 3], y=[6, 5, 4]))\n",
    "\n",
    "# Specify row heights and column widths with padding\n",
    "row_heights = [\"50%\", \"50%\"]\n",
    "col_widths = [\"50%\", \"50%\"]\n",
    "\n",
    "# Create a Panel layout with a 2x2 grid and specified sizes\n",
    "layout = pn.GridBox(\n",
    "    [pn.pane.Plotly(chart1), pn.pane.Plotly(chart2), pn.pane.Plotly(chart3), pn.pane.Plotly(chart4)],\n",
    "    ncols=2,  # Number of columns\n",
    "    nrows=2,  # Number of rows\n",
    "    row_heights=row_heights,\n",
    "    col_widths=col_widths,\n",
    "    sizing_mode=\"stretch_both\"  # Distribute across the entire page\n",
    ")\n",
    "\n",
    "# Show the layout in the browser\n",
    "layout.show()\n"
   ]
  },
  {
   "cell_type": "code",
   "execution_count": null,
   "id": "5970514f",
   "metadata": {},
   "outputs": [],
   "source": []
  }
 ],
 "metadata": {
  "kernelspec": {
   "display_name": "Python 3 (ipykernel)",
   "language": "python",
   "name": "python3"
  },
  "language_info": {
   "codemirror_mode": {
    "name": "ipython",
    "version": 3
   },
   "file_extension": ".py",
   "mimetype": "text/x-python",
   "name": "python",
   "nbconvert_exporter": "python",
   "pygments_lexer": "ipython3",
   "version": "3.10.9"
  }
 },
 "nbformat": 4,
 "nbformat_minor": 5
}
